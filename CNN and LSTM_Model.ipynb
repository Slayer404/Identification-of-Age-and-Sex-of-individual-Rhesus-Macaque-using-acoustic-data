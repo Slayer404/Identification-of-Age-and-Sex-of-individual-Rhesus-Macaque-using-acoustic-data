{
  "cells": [
    {
      "cell_type": "markdown",
      "metadata": {
        "id": "view-in-github",
        "colab_type": "text"
      },
      "source": [
        "<a href=\"https://colab.research.google.com/github/Slayer404/Identification-of-Age-and-Sex-of-individual-Rhesus-Macaque-using-acoustic-data/blob/main/CNN%20and%20LSTM_Model.ipynb\" target=\"_parent\"><img src=\"https://colab.research.google.com/assets/colab-badge.svg\" alt=\"Open In Colab\"/></a>"
      ]
    },
    {
      "cell_type": "code",
      "execution_count": null,
      "metadata": {
        "colab": {
          "base_uri": "https://localhost:8080/"
        },
        "id": "EmT0OHE-mYrW",
        "outputId": "607a1edb-84d8-4397-e32a-7ce66532b8ea"
      },
      "outputs": [
        {
          "name": "stdout",
          "output_type": "stream",
          "text": [
            "Mounted at /content/drive/\n"
          ]
        }
      ],
      "source": [
        "from google.colab import drive\n",
        "drive.mount('/content/drive/')"
      ]
    },
    {
      "cell_type": "code",
      "execution_count": null,
      "metadata": {
        "colab": {
          "base_uri": "https://localhost:8080/"
        },
        "id": "4bD4AQsJmYor",
        "outputId": "11d338c2-5910-4e26-d501-92f74983188a"
      },
      "outputs": [
        {
          "name": "stdout",
          "output_type": "stream",
          "text": [
            "Collecting tensorflow-io\n",
            "  Downloading tensorflow_io-0.37.1-cp311-cp311-manylinux_2_17_x86_64.manylinux2014_x86_64.whl.metadata (14 kB)\n",
            "Collecting tensorflow-gpu\n",
            "  Downloading tensorflow-gpu-2.12.0.tar.gz (2.6 kB)\n",
            "  \u001b[1;31merror\u001b[0m: \u001b[1msubprocess-exited-with-error\u001b[0m\n",
            "  \n",
            "  \u001b[31m×\u001b[0m \u001b[32mpython setup.py egg_info\u001b[0m did not run successfully.\n",
            "  \u001b[31m│\u001b[0m exit code: \u001b[1;36m1\u001b[0m\n",
            "  \u001b[31m╰─>\u001b[0m See above for output.\n",
            "  \n",
            "  \u001b[1;35mnote\u001b[0m: This error originates from a subprocess, and is likely not a problem with pip.\n",
            "  Preparing metadata (setup.py) ... \u001b[?25l\u001b[?25herror\n",
            "\u001b[1;31merror\u001b[0m: \u001b[1mmetadata-generation-failed\u001b[0m\n",
            "\n",
            "\u001b[31m×\u001b[0m Encountered error while generating package metadata.\n",
            "\u001b[31m╰─>\u001b[0m See above for output.\n",
            "\n",
            "\u001b[1;35mnote\u001b[0m: This is an issue with the package mentioned above, not pip.\n",
            "\u001b[1;36mhint\u001b[0m: See above for details.\n",
            "Requirement already satisfied: librosa in /usr/local/lib/python3.11/dist-packages (0.11.0)\n",
            "Requirement already satisfied: audioread>=2.1.9 in /usr/local/lib/python3.11/dist-packages (from librosa) (3.0.1)\n",
            "Requirement already satisfied: numba>=0.51.0 in /usr/local/lib/python3.11/dist-packages (from librosa) (0.60.0)\n",
            "Requirement already satisfied: numpy>=1.22.3 in /usr/local/lib/python3.11/dist-packages (from librosa) (2.0.2)\n",
            "Requirement already satisfied: scipy>=1.6.0 in /usr/local/lib/python3.11/dist-packages (from librosa) (1.15.3)\n",
            "Requirement already satisfied: scikit-learn>=1.1.0 in /usr/local/lib/python3.11/dist-packages (from librosa) (1.6.1)\n",
            "Requirement already satisfied: joblib>=1.0 in /usr/local/lib/python3.11/dist-packages (from librosa) (1.5.1)\n",
            "Requirement already satisfied: decorator>=4.3.0 in /usr/local/lib/python3.11/dist-packages (from librosa) (4.4.2)\n",
            "Requirement already satisfied: soundfile>=0.12.1 in /usr/local/lib/python3.11/dist-packages (from librosa) (0.13.1)\n",
            "Requirement already satisfied: pooch>=1.1 in /usr/local/lib/python3.11/dist-packages (from librosa) (1.8.2)\n",
            "Requirement already satisfied: soxr>=0.3.2 in /usr/local/lib/python3.11/dist-packages (from librosa) (0.5.0.post1)\n",
            "Requirement already satisfied: typing_extensions>=4.1.1 in /usr/local/lib/python3.11/dist-packages (from librosa) (4.14.0)\n",
            "Requirement already satisfied: lazy_loader>=0.1 in /usr/local/lib/python3.11/dist-packages (from librosa) (0.4)\n",
            "Requirement already satisfied: msgpack>=1.0 in /usr/local/lib/python3.11/dist-packages (from librosa) (1.1.1)\n",
            "Requirement already satisfied: packaging in /usr/local/lib/python3.11/dist-packages (from lazy_loader>=0.1->librosa) (24.2)\n",
            "Requirement already satisfied: llvmlite<0.44,>=0.43.0dev0 in /usr/local/lib/python3.11/dist-packages (from numba>=0.51.0->librosa) (0.43.0)\n",
            "Requirement already satisfied: platformdirs>=2.5.0 in /usr/local/lib/python3.11/dist-packages (from pooch>=1.1->librosa) (4.3.8)\n",
            "Requirement already satisfied: requests>=2.19.0 in /usr/local/lib/python3.11/dist-packages (from pooch>=1.1->librosa) (2.32.3)\n",
            "Requirement already satisfied: threadpoolctl>=3.1.0 in /usr/local/lib/python3.11/dist-packages (from scikit-learn>=1.1.0->librosa) (3.6.0)\n",
            "Requirement already satisfied: cffi>=1.0 in /usr/local/lib/python3.11/dist-packages (from soundfile>=0.12.1->librosa) (1.17.1)\n",
            "Requirement already satisfied: pycparser in /usr/local/lib/python3.11/dist-packages (from cffi>=1.0->soundfile>=0.12.1->librosa) (2.22)\n",
            "Requirement already satisfied: charset-normalizer<4,>=2 in /usr/local/lib/python3.11/dist-packages (from requests>=2.19.0->pooch>=1.1->librosa) (3.4.2)\n",
            "Requirement already satisfied: idna<4,>=2.5 in /usr/local/lib/python3.11/dist-packages (from requests>=2.19.0->pooch>=1.1->librosa) (3.10)\n",
            "Requirement already satisfied: urllib3<3,>=1.21.1 in /usr/local/lib/python3.11/dist-packages (from requests>=2.19.0->pooch>=1.1->librosa) (2.4.0)\n",
            "Requirement already satisfied: certifi>=2017.4.17 in /usr/local/lib/python3.11/dist-packages (from requests>=2.19.0->pooch>=1.1->librosa) (2025.6.15)\n",
            "Collecting tensorflow_io\n",
            "  Using cached tensorflow_io-0.37.1-cp311-cp311-manylinux_2_17_x86_64.manylinux2014_x86_64.whl.metadata (14 kB)\n",
            "Requirement already satisfied: tensorflow-io-gcs-filesystem==0.37.1 in /usr/local/lib/python3.11/dist-packages (from tensorflow_io) (0.37.1)\n",
            "Downloading tensorflow_io-0.37.1-cp311-cp311-manylinux_2_17_x86_64.manylinux2014_x86_64.whl (49.6 MB)\n",
            "\u001b[2K   \u001b[90m━━━━━━━━━━━━━━━━━━━━━━━━━━━━━━━━━━━━━━━━\u001b[0m \u001b[32m49.6/49.6 MB\u001b[0m \u001b[31m25.7 MB/s\u001b[0m eta \u001b[36m0:00:00\u001b[0m\n",
            "\u001b[?25hInstalling collected packages: tensorflow_io\n",
            "Successfully installed tensorflow_io-0.37.1\n"
          ]
        }
      ],
      "source": [
        "!pip install tensorflow-io tensorflow-gpu matplotlib\n",
        "!pip install librosa\n",
        "!pip install tensorflow_io"
      ]
    },
    {
      "cell_type": "code",
      "execution_count": null,
      "metadata": {
        "id": "KEgSxq94HNFV"
      },
      "outputs": [],
      "source": [
        "from IPython import get_ipython\n",
        "from IPython.display import display"
      ]
    },
    {
      "cell_type": "code",
      "execution_count": null,
      "metadata": {
        "id": "_FkMWOsXmYlu"
      },
      "outputs": [],
      "source": [
        "import os\n",
        "import librosa\n",
        "import numpy as np\n",
        "import tensorflow as tf\n",
        "import matplotlib.pyplot as plt\n",
        "from tensorflow.keras.layers import Input, Conv2D, MaxPooling2D, Flatten, Dense\n",
        "from tensorflow.keras.models import Model\n",
        "from tensorflow.keras.optimizers import Adam\n",
        "from sklearn.model_selection import train_test_split\n",
        "from tensorflow.keras.utils import to_categorical\n",
        "from tensorflow.image import resize\n",
        "from tensorflow.keras.models import load_model"
      ]
    },
    {
      "cell_type": "code",
      "execution_count": null,
      "metadata": {
        "id": "3zDzpBEtmYjN"
      },
      "outputs": [],
      "source": [
        "train_dir = '/content/drive/MyDrive/Audio_DATASET/training/sounds'\n",
        "test_dir = '/content/drive/MyDrive/Audio_DATASET/test/sounds'"
      ]
    },
    {
      "cell_type": "code",
      "execution_count": null,
      "metadata": {
        "id": "00XXwJ86mYgd"
      },
      "outputs": [],
      "source": [
        "classes = ['Adult Male','Adult Female','Infant','Juvenile']"
      ]
    },
    {
      "cell_type": "code",
      "execution_count": null,
      "metadata": {
        "id": "xZbiFOi4mYdt"
      },
      "outputs": [],
      "source": [
        "def load_and_preprocess_data(data_dir, classes, target_shape=(128, 128)):\n",
        "    data = []\n",
        "    labels = []\n",
        "\n",
        "    for i, class_name in enumerate(classes):\n",
        "        class_dir = os.path.join(data_dir, class_name)\n",
        "        if not os.path.exists(class_dir):\n",
        "            print(f\"Warning: The directory {class_dir} does not exist.\")\n",
        "            continue\n",
        "        for filename in os.listdir(class_dir):\n",
        "            if filename.endswith('.mp3'):\n",
        "                file_path = os.path.join(class_dir, filename)\n",
        "                audio_data, sample_rate = librosa.load(file_path, sr=None)\n",
        "\n",
        "                mel_spectrogram = librosa.feature.melspectrogram(y=audio_data, sr=sample_rate)\n",
        "\n",
        "                mel_spectrogram =resize(np.expand_dims(mel_spectrogram, axis=-1), target_shape)\n",
        "\n",
        "                data.append(mel_spectrogram)\n",
        "                labels.append(i)\n",
        "\n",
        "    return np.array(data), np.array(labels)\n",
        "\n",
        "\n",
        "X_train, y_train = load_and_preprocess_data(train_dir, classes)\n",
        "y_train = to_categorical(y_train, num_classes=len(classes))\n",
        "\n",
        "\n",
        "X_test, y_test = load_and_preprocess_data(test_dir, classes)\n",
        "y_test = to_categorical(y_test, num_classes=len(classes))\n",
        "\n",
        "if X_train.size == 0 or X_test.size == 0:\n",
        "    raise ValueError(\"Training or testing data is empty. Please check your dataset paths and contents.\")\n",
        "\n",
        "# Create a neural network model\n",
        "input_shape = X_train[0].shape\n",
        "input_layer = Input(shape=input_shape)\n",
        "x = Conv2D(32, (3, 3), activation='relu')(input_layer)\n",
        "x = MaxPooling2D((2, 2))(x)\n",
        "x = Conv2D(64, (3, 3), activation='relu')(x)\n",
        "x = MaxPooling2D((2, 2))(x)\n",
        "x = Flatten()(x)\n",
        "x = Dense(64, activation='relu')(x)\n",
        "output_layer = Dense(len(classes), activation='softmax')(x)\n",
        "model = Model(input_layer, output_layer)"
      ]
    },
    {
      "cell_type": "code",
      "execution_count": null,
      "metadata": {
        "id": "xHpWKrQedmxt"
      },
      "outputs": [],
      "source": [
        "\n",
        "import matplotlib.pyplot as plt\n",
        "import numpy as np\n",
        "audio_input_address = '/content/drive/MyDrive/Audio_DATASET/test/sounds/Juvenile/juvenile coos 5.mp3'\n",
        "\n",
        "audio_data, sample_rate = librosa.load(audio_input_address, sr=None)\n",
        "\n",
        "mel_spectrogram = librosa.feature.melspectrogram(y=audio_data, sr=sample_rate)\n",
        "\n",
        "mel_spectrogram_db = librosa.power_to_db(mel_spectrogram, ref=np.max)\n",
        "\n",
        "plt.figure(figsize=(10, 4))\n",
        "librosa.display.specshow(mel_spectrogram_db, sr=sample_rate, x_axis='time', y_axis='mel', cmap='Blues')\n",
        "plt.colorbar(format='%+2.0f dB', cmap='Blues')\n",
        "plt.title('Mel-frequency spectrogram')\n",
        "plt.tight_layout()\n",
        "plt.show()"
      ]
    },
    {
      "cell_type": "code",
      "execution_count": null,
      "metadata": {
        "id": "5-Yow5QGmYa1"
      },
      "outputs": [],
      "source": [
        "model.compile(optimizer=Adam(learning_rate=0.01), loss='categorical_crossentropy', metrics=['accuracy'])"
      ]
    },
    {
      "cell_type": "code",
      "execution_count": null,
      "metadata": {
        "id": "wTJLjehkmYR0"
      },
      "outputs": [],
      "source": [
        "model.fit(X_train, y_train, epochs=10, batch_size=4, validation_data=(X_test, y_test))"
      ]
    },
    {
      "cell_type": "code",
      "execution_count": null,
      "metadata": {
        "id": "rFFMAvwmmYO2"
      },
      "outputs": [],
      "source": [
        "test_accuracy=model.evaluate(X_test,y_test,verbose=0)\n",
        "print(test_accuracy[1])"
      ]
    },
    {
      "cell_type": "code",
      "execution_count": null,
      "metadata": {
        "id": "0pceI4eAmRzG"
      },
      "outputs": [],
      "source": [
        "model.save('audio_classification_using_cnn_model.h5')"
      ]
    },
    {
      "cell_type": "code",
      "execution_count": null,
      "metadata": {
        "id": "GUuyMPaFtgpX"
      },
      "outputs": [],
      "source": [
        "import matplotlib.pyplot as plt\n",
        "import numpy as np\n",
        "from sklearn.metrics import confusion_matrix\n",
        "import seaborn as sns\n",
        "y_pred = model.predict(X_test)\n",
        "y_pred_classes = np.argmax(y_pred, axis=1)\n",
        "y_true_classes = np.argmax(y_test, axis=1)\n",
        "\n",
        "cm = confusion_matrix(y_true_classes, y_pred_classes)\n",
        "\n",
        "plt.figure(figsize=(8, 6))\n",
        "sns.heatmap(cm, annot=True, fmt='d', cmap='Blues', xticklabels=classes, yticklabels=classes)\n",
        "plt.xlabel('Predicted Label')\n",
        "plt.ylabel('True Label')\n",
        "plt.title('Confusion Matrix')\n",
        "plt.show()"
      ]
    },
    {
      "cell_type": "code",
      "execution_count": null,
      "metadata": {
        "id": "hW2FwUhE436A"
      },
      "outputs": [],
      "source": [
        "import matplotlib.pyplot as plt\n",
        "import numpy as np\n",
        "from sklearn.metrics import precision_recall_curve, f1_score, auc\n",
        "from sklearn.preprocessing import label_binarize\n",
        "\n",
        "\n",
        "y_test_bin = label_binarize(np.argmax(y_test, axis=1), classes=np.arange(len(classes)))\n",
        "\n",
        "plt.figure(figsize=(10, 8))\n",
        "\n",
        "for i in range(len(classes)):\n",
        "    precision, recall, thresholds = precision_recall_curve(y_test_bin[:, i], y_pred[:, i])\n",
        "\n",
        "    f1_scores = 2 * (precision * recall) / (precision + recall + 1e-10)\n",
        "    plt.plot(thresholds, f1_scores[:-1], label=f'Class {classes[i]}')\n",
        "\n",
        "\n",
        "plt.xlabel('Threshold')\n",
        "plt.ylabel('F1 Score')\n",
        "plt.title('F1 Score vs. Threshold per Class')\n",
        "plt.legend()\n",
        "plt.grid(True)\n",
        "plt.show()\n"
      ]
    },
    {
      "cell_type": "code",
      "execution_count": null,
      "metadata": {
        "id": "Dp_JfW0Nu_pG"
      },
      "outputs": [],
      "source": [
        "# prompt: Validation and training curve\n",
        "\n",
        "import matplotlib.pyplot as plt\n",
        "history = model.fit(X_train, y_train, epochs=10, batch_size=4, validation_data=(X_test, y_test))\n",
        "\n",
        "# Get training and validation loss and accuracy from history\n",
        "train_loss = history.history['loss']\n",
        "val_loss = history.history['val_loss']\n",
        "train_accuracy = history.history['accuracy']\n",
        "val_accuracy = history.history['val_accuracy']\n",
        "\n",
        "# Plot training and validation loss\n",
        "plt.figure(figsize=(12, 6))\n",
        "plt.plot(train_loss, label='Training Loss')\n",
        "plt.plot(val_loss, label='Validation Loss')\n",
        "plt.xlabel('Epoch')\n",
        "plt.ylabel('Loss')\n",
        "plt.title('Training and Validation Loss')\n",
        "plt.legend()\n",
        "plt.grid(True)\n",
        "plt.show()\n",
        "\n",
        "# Plot training and validation accuracy\n",
        "plt.figure(figsize=(12, 6))\n",
        "plt.plot(train_accuracy, label='Training Accuracy')\n",
        "plt.plot(val_accuracy, label='Validation Accuracy')\n",
        "plt.xlabel('Epoch')\n",
        "plt.ylabel('Accuracy')\n",
        "plt.title('Training and Validation Accuracy')\n",
        "plt.legend()\n",
        "plt.grid(True)\n",
        "plt.show()"
      ]
    },
    {
      "cell_type": "code",
      "execution_count": null,
      "metadata": {
        "id": "H06Hu7SGzAcP"
      },
      "outputs": [],
      "source": [
        "# prompt: generate the F1 curve for the CNN model\n",
        "\n",
        "import matplotlib.pyplot as plt\n",
        "# Compute precision-recall pairs for each class\n",
        "precision = dict()\n",
        "recall = dict()\n",
        "average_precision = dict()\n",
        "for i in range(len(classes)):\n",
        "    precision[i], recall[i], _ = precision_recall_curve(y_test_bin[:, i], y_pred[:, i])\n",
        "    average_precision[i] = auc(recall[i], precision[i])\n",
        "\n",
        "# Plot the Precision-Recall curve for each class\n",
        "plt.figure(figsize=(10, 8))\n",
        "for i in range(len(classes)):\n",
        "    plt.plot(recall[i], precision[i], label=f'Class {classes[i]} (AP = {average_precision[i]:0.2f})')\n",
        "\n",
        "plt.xlabel('Recall')\n",
        "plt.ylabel('Precision')\n",
        "plt.title('Precision-Recall curve')\n",
        "plt.legend(loc=\"lower left\")\n",
        "plt.grid(True)\n",
        "plt.show()\n",
        "\n",
        "# Calculate and print F1 scores\n",
        "f1_scores = f1_score(y_true_classes, y_pred_classes, average=None)\n",
        "for i, class_name in enumerate(classes):\n",
        "    print(f'F1 Score for {class_name}: {f1_scores[i]:.2f}')"
      ]
    },
    {
      "cell_type": "code",
      "execution_count": null,
      "metadata": {
        "id": "lb44yKuZmw-m"
      },
      "outputs": [],
      "source": [
        "model = load_model('audio_classification_using_cnn_model.h5')\n",
        "target_shape = (128, 128)\n",
        "\n",
        "classes = ['Adult Male','Adult Female','Infant','Juvenile']\n",
        "\n",
        "def test_audio(file_path, model):\n",
        "\n",
        "    audio_data, sample_rate = librosa.load(file_path, sr=None)\n",
        "    mel_spectrogram = librosa.feature.melspectrogram(y=audio_data, sr=sample_rate)\n",
        "    mel_spectrogram = resize(np.expand_dims(mel_spectrogram, axis=-1), target_shape)\n",
        "    mel_spectrogram = tf.reshape(mel_spectrogram, (1,) + target_shape + (1,))\n",
        "\n",
        "\n",
        "    predictions = model.predict(mel_spectrogram)\n",
        "\n",
        "\n",
        "    class_probabilities = predictions[0]\n",
        "\n",
        "    predicted_class_index = np.argmax(class_probabilities)\n",
        "\n",
        "    return class_probabilities, predicted_class_index\n",
        "\n",
        "test_audio_file = ('/content/drive/MyDrive/Audio_DATASET/test/sounds/Juvenile/juvenile coos .mp3')\n",
        "class_probabilities, predicted_class_index = test_audio(test_audio_file, model)\n",
        "\n",
        "for i, class_label in enumerate(classes):\n",
        "    probability = class_probabilities[i]\n",
        "    print(f'Class: {class_label}, Probability: {probability:.4f}')\n",
        "predicted_class = classes[predicted_class_index]\n",
        "accuracy = class_probabilities[predicted_class_index]\n",
        "print(f'The audio is classified as: {predicted_class}')\n",
        "print(f'Accuracy: {accuracy:.4f}')"
      ]
    },
    {
      "cell_type": "code",
      "execution_count": null,
      "metadata": {
        "id": "BHqHhy4b1sHC"
      },
      "outputs": [],
      "source": [
        "import matplotlib.pyplot as plt\n",
        "import numpy as np\n",
        "def plot_spectrogram(file_path, title=\"Spectrogram\"):\n",
        "  \"\"\"\n",
        "  Loads an audio file, computes its Mel spectrogram, and plots it.\n",
        "\n",
        "  Args:\n",
        "    file_path (str): The path to the audio file.\n",
        "    title (str): The title for the plot.\n",
        "  \"\"\"\n",
        "  audio_data, sample_rate = librosa.load(file_path, sr=None)\n",
        "  mel_spectrogram = librosa.feature.melspectrogram(y=audio_data, sr=sample_rate)\n",
        "  mel_spectrogram_db = librosa.power_to_db(mel_spectrogram, ref=np.max)\n",
        "\n",
        "  plt.figure(figsize=(10, 4))\n",
        "  librosa.display.specshow(mel_spectrogram_db, sr=sample_rate, x_axis='time', y_axis='mel')\n",
        "  plt.colorbar(format='%+2.0f dB')\n",
        "  plt.title(title)\n",
        "  plt.tight_layout()\n",
        "  plt.show()\n",
        "\n",
        "plot_spectrogram(test_audio_file, title=\"Spectrogram of Test Audio\")\n"
      ]
    },
    {
      "cell_type": "code",
      "execution_count": null,
      "metadata": {
        "id": "KulhjWTwmw7m"
      },
      "outputs": [],
      "source": [
        "import librosa\n",
        "import numpy as np\n",
        "import tensorflow as tf\n",
        "from tensorflow.keras.utils import to_categorical\n",
        "from tensorflow.keras.models import Model\n",
        "from tensorflow.keras.layers import Input, LSTM, Dense, BatchNormalization, Dropout\n",
        "from skimage.transform import resize\n",
        "from tensorflow.keras.regularizers import l2\n",
        "\n",
        "def load_and_preprocess_data(data_dir, classes, target_shape=(128, 128)):\n",
        "    data, labels = [], []\n",
        "\n",
        "    for i, class_name in enumerate(classes):\n",
        "        class_dir = os.path.join(data_dir, class_name)\n",
        "        if not os.path.exists(class_dir):\n",
        "            print(f\"Warning: The directory {class_dir} does not exist.\")\n",
        "            continue\n",
        "\n",
        "        for filename in os.listdir(class_dir):\n",
        "            if filename.endswith('.mp3'):\n",
        "                file_path = os.path.join(class_dir, filename)\n",
        "                audio_data, sample_rate = librosa.load(file_path, sr=None)\n",
        "\n",
        "\n",
        "                mel_spectrogram = librosa.feature.melspectrogram(y=audio_data, sr=sample_rate, n_mels=128)\n",
        "                mel_spectrogram = librosa.power_to_db(mel_spectrogram, ref=np.max)\n",
        "                mel_spectrogram = (mel_spectrogram - np.mean(mel_spectrogram)) / np.std(mel_spectrogram)\n",
        "\n",
        "                mel_spectrogram = resize(mel_spectrogram, target_shape)\n",
        "                data.append(mel_spectrogram)\n",
        "                labels.append(i)\n",
        "\n",
        "    return np.array(data), np.array(labels)\n",
        "\n",
        "classes = sorted(os.listdir(train_dir))\n",
        "\n",
        "X_train, y_train = load_and_preprocess_data(train_dir, classes)\n",
        "X_test, y_test = load_and_preprocess_data(test_dir, classes)\n",
        "\n",
        "y_train = to_categorical(y_train, num_classes=len(classes))\n",
        "y_test = to_categorical(y_test, num_classes=len(classes))\n",
        "\n",
        "time_steps, features = X_train.shape[1], X_train.shape[2]\n",
        "X_train = X_train.reshape(-1, time_steps, features)\n",
        "X_test = X_test.reshape(-1, time_steps, features)\n",
        "\n",
        "# Build an improved LSTM Model\n",
        "\n",
        "input_layer = Input(shape=(time_steps, features))\n",
        "x = LSTM(128, return_sequences=True)(input_layer)\n",
        "x = BatchNormalization()(x)\n",
        "x = Dropout(0.3)(x)\n",
        "x = LSTM(64, return_sequences=False)(x)\n",
        "x = BatchNormalization()(x)\n",
        "x = Dropout(0.3)(x)\n",
        "x = Dense(32, activation='relu')(x)\n",
        "x = Dropout(0.3)(x)\n",
        "output_layer = Dense(len(classes), activation='softmax')(x)\n",
        "\n",
        "\n",
        "model2 = Model(input_layer, output_layer)\n",
        "\n",
        "model2.compile(optimizer=tf.keras.optimizers.Adam(learning_rate=0.001),\n",
        "              loss='categorical_crossentropy',\n",
        "              metrics=['accuracy'])\n",
        "\n",
        "\n",
        "model2.summary()"
      ]
    },
    {
      "cell_type": "code",
      "execution_count": null,
      "metadata": {
        "id": "ftDH_XxFmw4u"
      },
      "outputs": [],
      "source": [
        "model2.fit(X_train, y_train, epochs=50, batch_size=4, validation_data=(X_test, y_test))"
      ]
    },
    {
      "cell_type": "code",
      "execution_count": null,
      "metadata": {
        "id": "mHlXIzrwmw2A"
      },
      "outputs": [],
      "source": [
        "test_loss, test_accuracy = model2.evaluate(X_test, y_test, verbose=1)\n",
        "print(f\"Test Accuracy: {test_accuracy * 100:.2f}%\")\n"
      ]
    },
    {
      "cell_type": "code",
      "execution_count": null,
      "metadata": {
        "id": "EmkPSdxJmwzX"
      },
      "outputs": [],
      "source": [
        "model2.save('audio_classification_using_LSTM_model2.h5')"
      ]
    },
    {
      "cell_type": "code",
      "execution_count": null,
      "metadata": {
        "colab": {
          "background_save": true
        },
        "id": "TJym2TLdmwwm",
        "outputId": "69719743-196b-41af-9584-e16b1526149e"
      },
      "outputs": [
        {
          "name": "stderr",
          "output_type": "stream",
          "text": [
            "WARNING:absl:Compiled the loaded model, but the compiled metrics have yet to be built. `model.compile_metrics` will be empty until you train or evaluate the model.\n",
            "WARNING:absl:Compiled the loaded model, but the compiled metrics have yet to be built. `model.compile_metrics` will be empty until you train or evaluate the model.\n"
          ]
        },
        {
          "name": "stdout",
          "output_type": "stream",
          "text": [
            "\u001b[1m1/1\u001b[0m \u001b[32m━━━━━━━━━━━━━━━━━━━━\u001b[0m\u001b[37m\u001b[0m \u001b[1m0s\u001b[0m 202ms/step\n",
            "Class: Adult Male, Probability: 0.0001\n",
            "Class: Adult Female, Probability: 0.0000\n",
            "Class: Infant, Probability: 0.0000\n",
            "Class: Juvenile, Probability: 0.9999\n",
            "The audio is classified as: Juvenile\n",
            "Accuracy: 0.9999\n"
          ]
        }
      ],
      "source": [
        "\n",
        "model = load_model('audio_classification_using_LSTM_model2.h5')\n",
        "from skimage.transform import resize\n",
        "\n",
        "target_shape = (128, 128)\n",
        "classes = ['Adult Male','Adult Female','Infant','Juvenile']\n",
        "\n",
        "\n",
        "def test_audio(file_path, model):\n",
        "    audio_data, sample_rate = librosa.load(file_path, sr=None)\n",
        "    mel_spectrogram = librosa.feature.melspectrogram(y=audio_data, sr=sample_rate, n_mels=128)\n",
        "    mel_spectrogram = librosa.power_to_db(mel_spectrogram, ref=np.max)\n",
        "\n",
        "    mel_spectrogram = (mel_spectrogram - np.mean(mel_spectrogram)) / np.std(mel_spectrogram)\n",
        "\n",
        "    mel_spectrogram = resize(mel_spectrogram, target_shape)\n",
        "\n",
        "    mel_spectrogram = np.reshape(mel_spectrogram, (1, target_shape[0], target_shape[1]))\n",
        "\n",
        "    predictions = model.predict(mel_spectrogram)\n",
        "\n",
        "    class_probabilities = predictions[0]\n",
        "\n",
        "    predicted_class_index = np.argmax(class_probabilities)\n",
        "\n",
        "    return class_probabilities, predicted_class_index\n",
        "\n",
        "# Load the LSTM model\n",
        "model = load_model('audio_classification_using_LSTM_model2.h5')\n",
        "\n",
        "test_audio_file = ('/content/drive/MyDrive/Audio_DATASET/test/sounds/Juvenile/juvenile coos 2.mp3')\n",
        "class_probabilities, predicted_class_index = test_audio(test_audio_file, model)\n",
        "\n",
        "for i, class_label in enumerate(classes):\n",
        "    probability = class_probabilities[i]\n",
        "    print(f'Class: {class_label}, Probability: {probability:.4f}')\n",
        "\n",
        "predicted_class = classes[predicted_class_index]\n",
        "accuracy = class_probabilities[predicted_class_index]\n",
        "print(f'The audio is classified as: {predicted_class}')\n",
        "print(f'Accuracy: {accuracy:.4f}')"
      ]
    },
    {
      "cell_type": "code",
      "execution_count": null,
      "metadata": {
        "colab": {
          "background_save": true
        },
        "id": "yR32HvNIvA9n",
        "outputId": "3bc6ce6c-77d3-47f5-e34d-3ea2ea69216f"
      },
      "outputs": [
        {
          "name": "stderr",
          "output_type": "stream",
          "text": [
            "WARNING:tensorflow:5 out of the last 5 calls to <function TensorFlowTrainer.make_predict_function.<locals>.one_step_on_data_distributed at 0x78ce1b913060> triggered tf.function retracing. Tracing is expensive and the excessive number of tracings could be due to (1) creating @tf.function repeatedly in a loop, (2) passing tensors with different shapes, (3) passing Python objects instead of tensors. For (1), please define your @tf.function outside of the loop. For (2), @tf.function has reduce_retracing=True option that can avoid unnecessary retracing. For (3), please refer to https://www.tensorflow.org/guide/function#controlling_retracing and https://www.tensorflow.org/api_docs/python/tf/function for  more details.\n"
          ]
        },
        {
          "name": "stdout",
          "output_type": "stream",
          "text": [
            "\r\u001b[1m1/2\u001b[0m \u001b[32m━━━━━━━━━━\u001b[0m\u001b[37m━━━━━━━━━━\u001b[0m \u001b[1m0s\u001b[0m 189ms/step"
          ]
        },
        {
          "name": "stderr",
          "output_type": "stream",
          "text": [
            "WARNING:tensorflow:6 out of the last 6 calls to <function TensorFlowTrainer.make_predict_function.<locals>.one_step_on_data_distributed at 0x78ce1b913060> triggered tf.function retracing. Tracing is expensive and the excessive number of tracings could be due to (1) creating @tf.function repeatedly in a loop, (2) passing tensors with different shapes, (3) passing Python objects instead of tensors. For (1), please define your @tf.function outside of the loop. For (2), @tf.function has reduce_retracing=True option that can avoid unnecessary retracing. For (3), please refer to https://www.tensorflow.org/guide/function#controlling_retracing and https://www.tensorflow.org/api_docs/python/tf/function for  more details.\n"
          ]
        },
        {
          "name": "stdout",
          "output_type": "stream",
          "text": [
            "\u001b[1m2/2\u001b[0m \u001b[32m━━━━━━━━━━━━━━━━━━━━\u001b[0m\u001b[37m\u001b[0m \u001b[1m0s\u001b[0m 188ms/step\n"
          ]
        },
        {
          "data": {
            "image/png": "[encoded data removed]",
            "text/plain": [
              "<Figure size 800x600 with 2 Axes>"
            ]
          },
          "metadata": {},
          "output_type": "display_data"
        }
      ],
      "source": [
        "import matplotlib.pyplot as plt\n",
        "import numpy as np\n",
        "from sklearn.metrics import confusion_matrix\n",
        "import seaborn as sns\n",
        "\n",
        "y_pred_model2 = model2.predict(X_test)\n",
        "y_pred_classes_model2 = np.argmax(y_pred_model2, axis=1)\n",
        "y_true_classes_model2 = np.argmax(y_test, axis=1)\n",
        "\n",
        "cm_model2 = confusion_matrix(y_true_classes_model2, y_pred_classes_model2)\n",
        "\n",
        "plt.figure(figsize=(8, 6))\n",
        "sns.heatmap(cm_model2, annot=True, fmt='d', cmap='Blues', xticklabels=classes, yticklabels=classes)\n",
        "plt.xlabel('Predicted Label')\n",
        "plt.ylabel('True Label')\n",
        "plt.title('Confusion Matrix for LSTM Model')\n",
        "plt.show()"
      ]
    },
    {
      "cell_type": "code",
      "execution_count": null,
      "metadata": {
        "colab": {
          "background_save": true
        },
        "id": "S0Bg87mt3KjF",
        "outputId": "0fc40c5c-92c1-49f7-a103-3c141d593aa5"
      },
      "outputs": [
        {
          "data": {
            "image/png": "[encoded data removed]",
            "text/plain": [
              "<Figure size 800x600 with 1 Axes>"
            ]
          },
          "metadata": {},
          "output_type": "display_data"
        }
      ],
      "source": [
        "# prompt: Generate the F1 score curve for this LSTM Model\n",
        "\n",
        "import numpy as np\n",
        "from sklearn.metrics import f1_score\n",
        "import matplotlib.pyplot as plt\n",
        "from sklearn.preprocessing import label_binarize\n",
        "\n",
        "# Calculate F1 scores for different thresholds using a one-vs-rest approach\n",
        "thresholds = np.linspace(0, 1, 100)\n",
        "f1_scores_macro = []\n",
        "f1_scores_weighted = []\n",
        "\n",
        "# Binarize the true labels for one-vs-rest evaluation\n",
        "y_true_binarized = label_binarize(y_true_classes_model2, classes=np.unique(y_true_classes_model2))\n",
        "n_classes = y_true_binarized.shape[1]\n",
        "\n",
        "for threshold in thresholds:\n",
        "    y_pred_thresholded = (y_pred_model2 >= threshold).astype(int) # Apply threshold to all class probabilities\n",
        "\n",
        "    # Calculate F1 score for each class (one-vs-rest) and average\n",
        "    # Use zero_division=1 to avoid warnings/errors if no predictions or true labels for a class at a threshold\n",
        "    f1_macro = f1_score(y_true_binarized, y_pred_thresholded, average='macro', zero_division=1)\n",
        "    f1_weighted = f1_score(y_true_binarized, y_pred_thresholded, average='weighted', zero_division=1)\n",
        "\n",
        "    f1_scores_macro.append(f1_macro)\n",
        "    f1_scores_weighted.append(f1_weighted)\n",
        "\n",
        "\n",
        "# Plot the F1 score curves\n",
        "plt.figure(figsize=(8, 6))\n",
        "plt.plot(thresholds, f1_scores_macro, label='Macro F1 Score')\n",
        "plt.plot(thresholds, f1_scores_weighted, label='Weighted F1 Score')\n",
        "\n",
        "plt.xlabel('Threshold')\n",
        "plt.ylabel('F1 Score')\n",
        "plt.title('F1 Score vs. Threshold for LSTM Model (One-vs-Rest)')\n",
        "plt.legend()\n",
        "plt.grid(True)\n",
        "plt.show()"
      ]
    },
    {
      "cell_type": "code",
      "execution_count": null,
      "metadata": {
        "colab": {
          "background_save": true
        },
        "id": "oiOF2cqT3fBf",
        "outputId": "893222c2-2054-4232-87e4-9cf5df5bbef3"
      },
      "outputs": [
        {
          "data": {
            "image/png": "[encoded data removed]",
            "text/plain": [
              "<Figure size 1000x800 with 1 Axes>"
            ]
          },
          "metadata": {},
          "output_type": "display_data"
        }
      ],
      "source": [
        "# prompt: Generate the Precision curve for this LSTM Model\n",
        "\n",
        "import matplotlib.pyplot as plt\n",
        "import numpy as np\n",
        "from sklearn.metrics import precision_recall_curve\n",
        "from sklearn.preprocessing import label_binarize\n",
        "\n",
        "# Binarize the true labels for plotting\n",
        "y_test_binarized = label_binarize(y_true_classes_model2, classes=np.unique(y_true_classes_model2))\n",
        "n_classes = y_test_binarized.shape[1]\n",
        "\n",
        "plt.figure(figsize=(10, 8))\n",
        "\n",
        "# For each class, plot precision-recall curve\n",
        "for i in range(n_classes):\n",
        "    precision, recall, _ = precision_recall_curve(y_test_binarized[:, i], y_pred_model2[:, i])\n",
        "    plt.plot(recall, precision, lw=2, label=f'Class {classes[i]}')\n",
        "\n",
        "plt.xlabel(\"Recall\")\n",
        "plt.ylabel(\"Precision\")\n",
        "plt.title(\"Precision-Recall Curve for LSTM Model\")\n",
        "plt.legend(loc=\"best\")\n",
        "plt.ylim([0.0, 1.05])\n",
        "plt.xlim([0.0, 1.0])\n",
        "plt.show()"
      ]
    },
    {
      "cell_type": "code",
      "execution_count": null,
      "metadata": {
        "id": "0kn8OKivxvMd"
      },
      "outputs": [],
      "source": [
        "# prompt: generate the validation and training curve for LSTM model\n",
        "\n",
        "import matplotlib.pyplot as plt\n",
        "# Generate the validation and training curve for LSTM model\n",
        "history_lstm = model2.fit(X_train, y_train, epochs=50, batch_size=4, validation_data=(X_test, y_test))\n",
        "\n",
        "# Get training and validation loss and accuracy from history\n",
        "train_loss_lstm = history_lstm.history['loss']\n",
        "val_loss_lstm = history_lstm.history['val_loss']\n",
        "train_accuracy_lstm = history_lstm.history['accuracy']\n",
        "val_accuracy_lstm = history_lstm.history['val_accuracy']\n",
        "\n",
        "# Plot training and validation loss for LSTM model\n",
        "plt.figure(figsize=(12, 6))\n",
        "plt.plot(train_loss_lstm, label='LSTM Training Loss')\n",
        "plt.plot(val_loss_lstm, label='LSTM Validation Loss')\n",
        "plt.xlabel('Epoch')\n",
        "plt.ylabel('Loss')\n",
        "plt.title('LSTM Training and Validation Loss')\n",
        "plt.legend()\n",
        "plt.grid(True)\n",
        "plt.show()\n",
        "\n",
        "# Plot training and validation accuracy for LSTM model\n",
        "plt.figure(figsize=(12, 6))\n",
        "plt.plot(train_accuracy_lstm, label='LSTM Training Accuracy')\n",
        "plt.plot(val_accuracy_lstm, label='LSTM Validation Accuracy')\n",
        "plt.xlabel('Epoch')\n",
        "plt.ylabel('Accuracy')\n",
        "plt.title('LSTM Training and Validation Accuracy')\n",
        "plt.legend()\n",
        "plt.grid(True)\n",
        "plt.show()"
      ]
    }
  ],
  "metadata": {
    "accelerator": "GPU",
    "colab": {
      "gpuType": "T4",
      "provenance": [],
      "include_colab_link": true
    },
    "kernelspec": {
      "display_name": "Python 3",
      "name": "python3"
    },
    "language_info": {
      "name": "python"
    }
  },
  "nbformat": 4,
  "nbformat_minor": 0
}